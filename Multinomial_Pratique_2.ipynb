{
 "cells": [
  {
   "cell_type": "markdown",
   "metadata": {},
   "source": [
    "# Árvores II - Tarefa 2"
   ]
  },
  {
   "cell_type": "markdown",
   "metadata": {},
   "source": [
    "### 1. Carregar as bases\n",
    "\n",
    "Vamos carregar as bases lidas na tarefa passada. Se você salvou essas bases em arquivo texto, basta fazer a leitura com o comando ```pd.read_csv``` das seguintes bases:\n",
    "\n",
    "- X_train\n",
    "- Y_train\n",
    "- X_test\n",
    "- Y_test\n",
    "\n",
    "Não se esqueça de considerar a leitura dos índices dos arquivos no ```read_csv()```!"
   ]
  },
  {
   "cell_type": "code",
   "execution_count": 3,
   "metadata": {},
   "outputs": [],
   "source": [
    "import pandas as pd\n",
    "import seaborn as sns\n",
    "import matplotlib.pyplot as plt\n",
    "import numpy as np\n",
    "from sklearn.tree import DecisionTreeClassifier\n",
    "from sklearn.model_selection import train_test_split\n",
    "from sklearn.metrics import ConfusionMatrixDisplay\n",
    "from sklearn.metrics import confusion_matrix"
   ]
  },
  {
   "cell_type": "code",
   "execution_count": 62,
   "metadata": {
    "scrolled": true
   },
   "outputs": [],
   "source": [
    "X_test = pd.read_csv(r\"C:\\Users\\Matheus\\Downloads\\human+activity+recognition+using+smartphones\\UCI HAR Dataset\\UCI HAR Dataset\\output\\X_test.csv\")\n",
    "X_train = pd.read_csv(r\"C:\\Users\\Matheus\\Downloads\\human+activity+recognition+using+smartphones\\UCI HAR Dataset\\UCI HAR Dataset\\output\\X_train.csv\")\n",
    "y_test = pd.read_csv(r\"C:\\Users\\Matheus\\Downloads\\human+activity+recognition+using+smartphones\\UCI HAR Dataset\\UCI HAR Dataset\\test\\y_test.txt\", header=None)\n",
    "y_train = pd.read_csv(r\"C:\\Users\\Matheus\\Downloads\\human+activity+recognition+using+smartphones\\UCI HAR Dataset\\UCI HAR Dataset\\train\\y_train.txt\", header=None)\n",
    "\n",
    "\n"
   ]
  },
  {
   "cell_type": "code",
   "execution_count": null,
   "metadata": {},
   "outputs": [],
   "source": []
  },
  {
   "cell_type": "markdown",
   "metadata": {},
   "source": [
    "### 2. Divisão da base em Treino, Validação e Teste\n",
    "\n",
    "A base já se encontra dividida em Treino e Validação. O que vamos fazer então é extrair uma base de Validação da base de Treino.\n",
    "\n",
    "Extraia 25% da base de treino como base de validação."
   ]
  },
  {
   "cell_type": "code",
   "execution_count": 147,
   "metadata": {},
   "outputs": [],
   "source": [
    "X_test, X_validation, y_test, y_validation = train_test_split(X_train, y_train, test_size=0.25)\n",
    "\n",
    "\n",
    "\n",
    "# Here, we took 0.25 from the training set to use as a validation set, which means that we will evaluate the precision of our model \n",
    "# on the test set and later test the same precision on the validation set, which has not been used to create the models, or to choose\n",
    "# the best one from all the models created..."
   ]
  },
  {
   "cell_type": "markdown",
   "metadata": {},
   "source": [
    "### 3. Melhores 3 variáveis\n",
    "\n",
    "Rode uma árvore com profundidade máxima igual a 4 para prever a atividade humana com todas as variáveis.\n",
    "Observe a importância das variáveis e considere as 3 variáveis com maior importância para os próximos passos.\n",
    "Dica: utilize o atributo ```clf.feature_importances_``` da árvore treinada."
   ]
  },
  {
   "cell_type": "raw",
   "metadata": {},
   "source": [
    "Now we will use our train set to create trees, the diference between that one and the one we used in previous exercise it's that, now, we will use all variables to create the tree, and plus we will set a max_deepht to the tree..."
   ]
  },
  {
   "cell_type": "code",
   "execution_count": 71,
   "metadata": {},
   "outputs": [],
   "source": [
    "clf0 = DecisionTreeClassifier(random_state=40028922)\n",
    "\n",
    "path = clf0.cost_complexity_pruning_path(X_train, y_train)\n",
    "\n",
    "ccp_alphas, impurities = path.ccp_alphas, path.impurities\n",
    "#DecisionTreeClassifier(max_depth=4, random_state=40028922, min_samples_leaf=15)\n",
    "\n",
    "clf0s = []\n",
    "\n",
    "for ccp_alpha in ccp_alphas[::5]:\n",
    "    clf0 = DecisionTreeClassifier(random_state=40028922, max_depth=4, min_samples_leaf=15).fit(X_train, y_train)\n",
    "    clf0s.append(clf0)\n"
   ]
  },
  {
   "cell_type": "code",
   "execution_count": 133,
   "metadata": {},
   "outputs": [
    {
     "data": {
      "text/plain": [
       "['tGravityAcc-min()-X', 'fBodyAcc-mad()-X', 'angle(Y,gravityMean)']"
      ]
     },
     "execution_count": 133,
     "metadata": {},
     "output_type": "execute_result"
    }
   ],
   "source": [
    "importances = clf0s[0].feature_importances_\n",
    "index_best_imp = np.argsort(importances)[-3:][::-1]\n",
    "best_vars = [X_train.columns[best_imp] for best_imp in index_best_imp]\n",
    "best_vars"
   ]
  },
  {
   "cell_type": "markdown",
   "metadata": {},
   "source": [
    "### 4. Construa uma árvore com as 3 melhores variáveis\n",
    "\n",
    "Utilizando as três variáveis encontradas acima, construa uma árvore de decisão. Encontre o melhor ```ccp_alpha``` utilizando a base de validação, conforme a estrutura que vimos em aula."
   ]
  },
  {
   "cell_type": "code",
   "execution_count": 143,
   "metadata": {},
   "outputs": [
    {
     "name": "stdout",
     "output_type": "stream",
     "text": [
      "CPU times: total: 10.7 s\n",
      "Wall time: 12.2 s\n"
     ]
    }
   ],
   "source": [
    "%%time\n",
    "X_train3 = X_train[best_vars]\n",
    "\n",
    "clf0 = DecisionTreeClassifier(random_state=40028922)\n",
    "clf0s = []\n",
    "path = clf0.cost_complexity_pruning_path(X_train3, y_train)\n",
    "ccp_alphas3, impurities3 = path.ccp_alphas, path.impurities\n",
    "\n",
    "\n",
    "for ccp_alpha in ccp_alphas3:\n",
    "    clf0 = DecisionTreeClassifier(random_state=40028922, min_samples_leaf=15, ccp_alpha=ccp_alpha).fit(X_train3, y_train)\n",
    "    clf0s.append(clf0)\n",
    "\n"
   ]
  },
  {
   "cell_type": "code",
   "execution_count": 149,
   "metadata": {},
   "outputs": [
    {
     "data": {
      "text/plain": [
       "[<matplotlib.lines.Line2D at 0x2549995eb10>]"
      ]
     },
     "execution_count": 149,
     "metadata": {},
     "output_type": "execute_result"
    },
    {
     "data": {
      "image/png": "[encoded data removed]",
      "text/plain": [
       "<Figure size 640x480 with 1 Axes>"
      ]
     },
     "metadata": {},
     "output_type": "display_data"
    }
   ],
   "source": [
    "validation_scores = [clf0.score(X_validation, y_validation) for clf0 in clf0s]\n",
    "train_scores = [clf0.score(X_train, y_train) for clf0 in clf0s]\n",
    "\n",
    "\n",
    "fig, ax = plt.subplots()\n",
    "ax.set_xlabel('Alpha')\n",
    "ax.set_ylabel('Acuracy')\n",
    "ax.plot(ccp_alphas3, train_scores, marker='o', label = 'treino')\n",
    "ax.plot(ccp_alphas3, validation_scores, marker='o', label = 'teste')\n",
    "\n",
    "# As we can see, the training and test scores are nearly equal most of the time. So, it is unlikely \n",
    "# that our overfitting is high. To find the best CCPAlpha parameter, we can extract it by doing:"
   ]
  },
  {
   "cell_type": "code",
   "execution_count": 157,
   "metadata": {},
   "outputs": [
    {
     "data": {
      "text/plain": [
       "0.0002221617700398984"
      ]
     },
     "execution_count": 157,
     "metadata": {},
     "output_type": "execute_result"
    }
   ],
   "source": [
    "ind_best_tree = len(validation_scores) - validation_scores[::-1].index(max(validation_scores))-1\n",
    "best_tree = clf0s[ind_best_tree]\n",
    "\n",
    "best_ccp_alpha = best_tree.ccp_alpha\n",
    "best_ccp_alpha"
   ]
  },
  {
   "cell_type": "markdown",
   "metadata": {},
   "source": [
    "### 5. Avaliação do modelo\n",
    "\n",
    "Avalie a árvore encontrada no item anterior na base de testes."
   ]
  },
  {
   "cell_type": "code",
   "execution_count": 159,
   "metadata": {},
   "outputs": [
    {
     "data": {
      "text/plain": [
       "0.9147624229234675"
      ]
     },
     "execution_count": 159,
     "metadata": {},
     "output_type": "execute_result"
    }
   ],
   "source": [
    "best_tree.score(X_test, y_test)"
   ]
  },
  {
   "cell_type": "raw",
   "metadata": {},
   "source": [
    "Wonderful! By using this strategy to select the best possible variables for our tree, we managed to achieve nearly a 0.4 improvement in our accuracy. This is extremely important in situations where a misprediction can result in thousands of dollars in losses, or even cost a life if we are predicting someone's chances of having a disease or related conditions."
   ]
  }
 ],
 "metadata": {
  "kernelspec": {
   "display_name": "Python 3 (ipykernel)",
   "language": "python",
   "name": "python3"
  },
  "language_info": {
   "codemirror_mode": {
    "name": "ipython",
    "version": 3
   },
   "file_extension": ".py",
   "mimetype": "text/x-python",
   "name": "python",
   "nbconvert_exporter": "python",
   "pygments_lexer": "ipython3",
   "version": "3.12.4"
  }
 },
 "nbformat": 4,
 "nbformat_minor": 4
}
